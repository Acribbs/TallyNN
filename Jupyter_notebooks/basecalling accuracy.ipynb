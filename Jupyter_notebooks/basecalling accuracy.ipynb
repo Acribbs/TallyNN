{
 "cells": [
  {
   "cell_type": "code",
   "execution_count": 1,
   "metadata": {},
   "outputs": [],
   "source": [
    "import regex\n",
    "from Bio import SeqIO\n",
    "import cgatcore.iotools as iotools\n",
    "import pysam"
   ]
  },
  {
   "cell_type": "code",
   "execution_count": 3,
   "metadata": {},
   "outputs": [],
   "source": [
    "def perfect_barcode_umi(string):\n",
    "    i = 0\n",
    "    n = 0\n",
    "    umis = []\n",
    "    for x in range(0, len(string)):\n",
    "        \n",
    "\n",
    "        substr = string[x:x+2]\n",
    "        if i % 2:\n",
    "            pass\n",
    "        else:\n",
    "            if (\"CC\" in substr or \"GG\" in substr or \"AA\" in substr or \"TT\" in substr):\n",
    "                n+=1\n",
    "                if n == len(string)/2:\n",
    "                    umi = string[::2]\n",
    "                    return(umi)\n",
    "            else:\n",
    "                break\n",
    "        i +=1"
   ]
  },
  {
   "cell_type": "code",
   "execution_count": 4,
   "metadata": {},
   "outputs": [],
   "source": []
  },
  {
   "cell_type": "code",
   "execution_count": 136,
   "metadata": {},
   "outputs": [],
   "source": [
    "def basecall_accuracy(barcodes):\n",
    "    errors_per_bc = []\n",
    "    error_bc = 0\n",
    "    n = 0\n",
    "    error = 0\n",
    "    perfect = 0\n",
    "    i = 0\n",
    "    for barcode in barcodes:\n",
    "        seq = \"\".join(barcode)\n",
    "\n",
    "\n",
    "        for x in range(0,len(seq)):\n",
    "            \n",
    "            substr = seq[x:x+2]\n",
    "            \n",
    "            if i % 2:\n",
    "                pass\n",
    "            else:\n",
    "                n += 1\n",
    "                if (\"CC\" in substr or \"GG\" in substr or \"AA\" in substr or \"TT\" in substr):\n",
    "                    perfect +=1\n",
    "                else:\n",
    "                    error +=1\n",
    "                    error_bc +=1\n",
    "            i +=1\n",
    "        errors_per_bc.append(error_bc)\n",
    "        error_bc = 0\n",
    "            \n",
    "    accuracy = (error/n) * 100\n",
    "    print(perfect)\n",
    "    print(error)\n",
    "    print(accuracy)\n"
   ]
  },
  {
   "cell_type": "code",
   "execution_count": 139,
   "metadata": {},
   "outputs": [
    {
     "name": "stdout",
     "output_type": "stream",
     "text": [
      "175497227\n",
      "24502773\n",
      "12.2513865\n"
     ]
    }
   ],
   "source": [
    "barcodes=[]\n",
    "with pysam.FastxFile(\"E1_R1.fastq\") as fh:\n",
    "    n = 0 \n",
    "    for record in fh:\n",
    "        n +=1\n",
    "        if n > 20000000:\n",
    "            break\n",
    "        \n",
    "        barcodes.append(record.sequence[:20])\n",
    "\n",
    "basecall_accuracy(barcodes)"
   ]
  },
  {
   "cell_type": "markdown",
   "metadata": {},
   "source": [
    "The overall accuracy of sequencing and PCR errors is 12.25%"
   ]
  }
 ],
 "metadata": {
  "kernelspec": {
   "display_name": "Python 3",
   "language": "python",
   "name": "python3"
  },
  "language_info": {
   "codemirror_mode": {
    "name": "ipython",
    "version": 3
   },
   "file_extension": ".py",
   "mimetype": "text/x-python",
   "name": "python",
   "nbconvert_exporter": "python",
   "pygments_lexer": "ipython3",
   "version": "3.6.7"
  }
 },
 "nbformat": 4,
 "nbformat_minor": 4
}

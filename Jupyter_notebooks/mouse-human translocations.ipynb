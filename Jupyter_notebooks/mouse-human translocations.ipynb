{
 "cells": [
  {
   "cell_type": "code",
   "execution_count": 1,
   "metadata": {},
   "outputs": [
    {
     "data": {
      "text/plain": [
       "'0.15.2'"
      ]
     },
     "execution_count": 1,
     "metadata": {},
     "output_type": "execute_result"
    }
   ],
   "source": [
    "import subprocess\n",
    "import os\n",
    "import regex as re\n",
    "import numpy as np\n",
    "import itertools\n",
    "import operator\n",
    "from collections import Counter\n",
    "from scipy import stats\n",
    "from statistics import mean\n",
    "import gzip\n",
    "import pickle\n",
    "import pysam\n",
    "import mygene\n",
    "pysam.__version__"
   ]
  },
  {
   "cell_type": "code",
   "execution_count": 3,
   "metadata": {},
   "outputs": [],
   "source": [
    "bamfile = pysam.AlignmentFile(\"final.bam\",\"rb\")\n",
    "split = pysam.AlignmentFile(\"SA_tag.bam\", \"wb\", template=bamfile)\n",
    "\n",
    "for line in bamfile:\n",
    "    if line.has_tag(\"SA\"):\n",
    "        split.write(line)\n",
    "    else:\n",
    "        pass\n",
    "    \n",
    "bamfile.close()\n",
    "split.close()"
   ]
  },
  {
   "cell_type": "code",
   "execution_count": 16,
   "metadata": {},
   "outputs": [
    {
     "name": "stdout",
     "output_type": "stream",
     "text": [
      "huamn_human:121111\n",
      "huamn_mouse:22360\n",
      "mouse_human:22738\n",
      "mouse_mouse:133619\n"
     ]
    }
   ],
   "source": [
    "\n",
    "bamfile = pysam.AlignmentFile(\"SA_tag.bam\")\n",
    "\n",
    "human_human = 0\n",
    "human_mouse = 0\n",
    "mouse_mouse = 0\n",
    "mouse_human = 0\n",
    "\n",
    "for line in bamfile:\n",
    "\n",
    "    a = line.get_tag(\"SA\").split(\";\")[0]\n",
    "    chrom, start, strand, cigar, mapq, nm = a.split(\",\")\n",
    "    \n",
    "    match = re.findall(r'ENST[0]', chrom)\n",
    "    \n",
    "    for m in match:\n",
    "        if line.reference_name[:4] == \"ENST\":\n",
    "            human_human += 1\n",
    "        elif line.reference_name[:4] == \"ENSM\":\n",
    "            human_mouse += 1\n",
    "    \n",
    "    match = re.findall(r'ENSMUST[0]', chrom)\n",
    "\n",
    "    for m in match:\n",
    "        if line.reference_name[:4] == \"ENST\":\n",
    "            mouse_human += 1\n",
    "        elif line.reference_name[:4] == \"ENSM\":\n",
    "            mouse_mouse += 1\n",
    "\n",
    "            \n",
    "            \n",
    "\n",
    "print(\"human_human:\" + str(human_human))\n",
    "print(\"human_mouse:\" + str(human_mouse))\n",
    "print(\"mouse_human:\" + str(mouse_human))\n",
    "print(\"mouse_mouse:\" + str(mouse_mouse))\n",
    "\n",
    "bamfile.close()"
   ]
  },
  {
   "cell_type": "markdown",
   "metadata": {},
   "source": [
    "Now need  to seperate mouse and humand and do counting of the mouse human reads, are they completely random or are they at certain loci"
   ]
  },
  {
   "cell_type": "code",
   "execution_count": 34,
   "metadata": {},
   "outputs": [
    {
     "name": "stderr",
     "output_type": "stream",
     "text": [
      "IOPub data rate exceeded.\n",
      "The notebook server will temporarily stop sending output\n",
      "to the client in order to avoid crashing it.\n",
      "To change this limit, set the config variable\n",
      "`--NotebookApp.iopub_data_rate_limit`.\n",
      "\n",
      "Current values:\n",
      "NotebookApp.iopub_data_rate_limit=1000000.0 (bytes/sec)\n",
      "NotebookApp.rate_limit_window=3.0 (secs)\n",
      "\n"
     ]
    }
   ],
   "source": [
    "# parse file and identify translocations - make bed file\n",
    "\n",
    "bamfile = pysam.AlignmentFile(\"SA_tag.bam\")\n",
    "\n",
    "trans_list = []\n",
    "\n",
    "n = 0\n",
    "for line in bamfile:\n",
    "    if n < 5:\n",
    "        umi = line.query_name.split(\"_\")[2]\n",
    "        barcode = line.query_name.split(\"_\")[1]\n",
    "\n",
    "        chrom1 = line.reference_name\n",
    "        start1 = line.reference_start\n",
    "        end1 = line.reference_end\n",
    "        sa = line.get_tag(\"SA\").split(\",\")[0]\n",
    "\n",
    "        chrom = chrom1 + \"_\" + sa + \"_\" + barcode\n",
    "        \n",
    "        trans_list.append(chrom)\n",
    "        \n",
    "print(trans_dict)\n",
    "bamfile.close()"
   ]
  },
  {
   "cell_type": "code",
   "execution_count": 41,
   "metadata": {},
   "outputs": [],
   "source": [
    "out_table = open(\"translocations.txt\", \"w\")\n",
    "import collections \n",
    "trans_counter =collections.Counter(trans_list)\n",
    "for k in trans_counter:\n",
    "    ref, chimera, barcode = k.split(\"_\")\n",
    "    \n",
    "    counter = trans_counter[k]\n",
    "    \n",
    "    out_table.write(\"%s\\t%s\\t%s\\t%s\\n\"%(ref, chimera,  barcode, str(counter)))\n"
   ]
  }
 ],
 "metadata": {
  "kernelspec": {
   "display_name": "Python 3",
   "language": "python",
   "name": "python3"
  },
  "language_info": {
   "codemirror_mode": {
    "name": "ipython",
    "version": 3
   },
   "file_extension": ".py",
   "mimetype": "text/x-python",
   "name": "python",
   "nbconvert_exporter": "python",
   "pygments_lexer": "ipython3",
   "version": "3.6.7"
  }
 },
 "nbformat": 4,
 "nbformat_minor": 2
}
